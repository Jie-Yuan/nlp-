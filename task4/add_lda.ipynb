{
 "cells": [
  {
   "cell_type": "code",
   "execution_count": 1,
   "metadata": {},
   "outputs": [],
   "source": [
    "from sklearn.preprocessing import LabelEncoder\n",
    "import numpy as np\n",
    "import pandas as pd\n",
    "import pickle\n",
    "from sklearn.decomposition import LatentDirichletAllocation"
   ]
  },
  {
   "cell_type": "code",
   "execution_count": 2,
   "metadata": {},
   "outputs": [],
   "source": [
    "# 获取训练数据，测试数据\n",
    "train_data = []\n",
    "with open('./after_preprocess_traindata.txt',encoding='utf-8') as f:\n",
    "    for line in f:\n",
    "        train_data.append(line.strip())\n",
    "\n",
    "test_data = []\n",
    "with open('./after_preprocess_testdata.txt',encoding='utf-8') as f:\n",
    "    for line in f:\n",
    "        test_data.append(line.strip())"
   ]
  },
  {
   "cell_type": "code",
   "execution_count": 3,
   "metadata": {},
   "outputs": [],
   "source": [
    "# 获取标签编码\n",
    "df1 = pd.read_csv('../dataset/cnews/cnews.train.txt',sep='\\t',names=['label','content'],encoding='UTF-8',engine='python')\n",
    "df2 = pd.read_csv('../dataset/cnews/cnews.test.txt',sep='\\t',names=['label','content'],encoding='UTF-8',engine='python')\n",
    "encoder = LabelEncoder()\n",
    "\n",
    "train_y = encoder.fit_transform(df1['label'])\n",
    "test_y = encoder.transform(df2['label'])"
   ]
  },
  {
   "cell_type": "markdown",
   "metadata": {},
   "source": [
    "### 接着我们要把词转化为词频向量（词袋），注意由于LDA是基于词频统计的，因此一般不用TF-IDF来做文档特征。"
   ]
  },
  {
   "cell_type": "code",
   "execution_count": 4,
   "metadata": {},
   "outputs": [],
   "source": [
    "from sklearn.feature_extraction.text import CountVectorizer\n",
    "cv = CountVectorizer()\n",
    "bow = cv.fit_transform(train_data)\n",
    "# print(bow)"
   ]
  },
  {
   "cell_type": "markdown",
   "metadata": {},
   "source": [
    "### 这里是根据词袋，计算与标签的互信息，取相关性最大的前5000个词"
   ]
  },
  {
   "cell_type": "code",
   "execution_count": 6,
   "metadata": {},
   "outputs": [],
   "source": [
    "from sklearn.feature_selection import mutual_info_classif\n",
    "from sklearn.feature_selection import SelectKBest\n",
    "selector = SelectKBest(mutual_info_classif, k=5000)\n",
    "new_train_x = selector.fit_transform(bow,train_y)\n",
    "print(new_train_x.shape)"
   ]
  },
  {
   "cell_type": "markdown",
   "metadata": {},
   "source": [
    "#### 保存剩余筛选器模型"
   ]
  },
  {
   "cell_type": "code",
   "execution_count": 12,
   "metadata": {},
   "outputs": [],
   "source": [
    "pkl = pickle.dumps(selector)\n",
    "with open('./selector_model.pkl','wb') as f:\n",
    "    f.write(pkl)"
   ]
  },
  {
   "cell_type": "markdown",
   "metadata": {},
   "source": [
    "#### 测试读取筛选器"
   ]
  },
  {
   "cell_type": "code",
   "execution_count": 5,
   "metadata": {},
   "outputs": [
    {
     "name": "stdout",
     "output_type": "stream",
     "text": [
      "(50000, 5000)\n"
     ]
    }
   ],
   "source": [
    "with open('./selector_model.pkl','rb') as f:\n",
    "    model = pickle.loads(f.read())\n",
    "new_train_x = model.transform(bow)\n",
    "print(new_train_x.shape)"
   ]
  },
  {
   "cell_type": "markdown",
   "metadata": {},
   "source": [
    "### 开始创建LDA模型"
   ]
  },
  {
   "cell_type": "code",
   "execution_count": null,
   "metadata": {},
   "outputs": [],
   "source": [
    "lda = LatentDirichletAllocation(n_components=100,max_iter=800,random_state=1)\n",
    "lda.fit(new_train_x)"
   ]
  },
  {
   "cell_type": "code",
   "execution_count": 6,
   "metadata": {},
   "outputs": [],
   "source": [
    "def load_lda(path):\n",
    "    with open(path,'rb') as f:\n",
    "        lda = pickle.loads(f.read())\n",
    "    return lda"
   ]
  },
  {
   "cell_type": "code",
   "execution_count": 7,
   "metadata": {},
   "outputs": [],
   "source": [
    "lda = load_lda('./lda_model.pkl')"
   ]
  },
  {
   "cell_type": "code",
   "execution_count": 9,
   "metadata": {},
   "outputs": [
    {
     "name": "stdout",
     "output_type": "stream",
     "text": [
      "[6.02409639e-05 6.02409639e-05 6.02409639e-05 6.02409639e-05\n",
      " 6.02409639e-05 5.24025550e-02 6.02409639e-05 6.02409639e-05\n",
      " 6.02409639e-05 6.02409639e-05 6.02409639e-05 6.02409639e-05\n",
      " 6.02409639e-05 6.02409639e-05 6.02409639e-05 6.02409639e-05\n",
      " 6.02409639e-05 6.02409639e-05 6.02409639e-05 6.02409639e-05\n",
      " 6.02409639e-05 6.02409639e-05 2.14631940e-01 6.02409639e-05\n",
      " 6.02409639e-05 6.02409639e-05 6.02409639e-05 6.02409639e-05\n",
      " 6.02409639e-05 6.02409639e-05 6.02409639e-05 6.02409639e-05\n",
      " 6.02409639e-05 6.02409639e-05 6.02409639e-05 6.02409639e-05\n",
      " 1.41775938e-01 6.02409639e-05 6.02409639e-05 6.02409639e-05\n",
      " 6.02409639e-05 6.02409639e-05 6.02409639e-05 6.02409639e-05\n",
      " 6.02409639e-05 6.02409639e-05 5.42019779e-02 6.02409639e-05\n",
      " 6.02409639e-05 6.02409639e-05 6.02409639e-05 6.02409639e-05\n",
      " 6.02409639e-05 6.02409639e-05 6.02409639e-05 6.02409639e-05\n",
      " 6.02409639e-05 6.02409639e-05 6.02409639e-05 6.02409639e-05\n",
      " 6.02409639e-05 6.02409639e-05 6.02409639e-05 6.02409639e-05\n",
      " 6.02409639e-05 6.02409639e-05 6.02409639e-05 6.02409639e-05\n",
      " 6.02409639e-05 6.02409639e-05 6.02409639e-05 6.02409639e-05\n",
      " 6.02409639e-05 6.02409639e-05 6.02409639e-05 6.02409639e-05\n",
      " 6.02409639e-05 6.02409639e-05 6.02409639e-05 5.66294778e-02\n",
      " 6.02409639e-05 6.02409639e-05 6.02409639e-05 6.02409639e-05\n",
      " 6.02409639e-05 6.02409639e-05 6.02409639e-05 6.02409639e-05\n",
      " 6.02409639e-05 6.02409639e-05 6.02409639e-05 6.02409639e-05\n",
      " 6.02409639e-05 6.02409639e-05 6.02409639e-05 6.02409639e-05\n",
      " 6.02409639e-05 4.74695460e-01 6.02409639e-05 6.02409639e-05]\n"
     ]
    }
   ],
   "source": [
    "lda_feature = lda.transform(new_train_x)\n",
    "print(lda_feature[0])"
   ]
  },
  {
   "cell_type": "code",
   "execution_count": 10,
   "metadata": {},
   "outputs": [
    {
     "name": "stdout",
     "output_type": "stream",
     "text": [
      "(50000, 100)\n"
     ]
    }
   ],
   "source": [
    "print(lda_feature.shape)"
   ]
  },
  {
   "cell_type": "code",
   "execution_count": 11,
   "metadata": {},
   "outputs": [
    {
     "name": "stdout",
     "output_type": "stream",
     "text": [
      "(50000, 5100)\n"
     ]
    }
   ],
   "source": [
    "train_X = np.concatenate((new_train_x.toarray(),lda_feature),axis=1)\n",
    "print(train_X.shape)"
   ]
  },
  {
   "cell_type": "code",
   "execution_count": 12,
   "metadata": {},
   "outputs": [],
   "source": [
    "from sklearn.naive_bayes import GaussianNB"
   ]
  },
  {
   "cell_type": "code",
   "execution_count": 13,
   "metadata": {},
   "outputs": [
    {
     "name": "stdout",
     "output_type": "stream",
     "text": [
      "0.93752\n"
     ]
    }
   ],
   "source": [
    "gs = GaussianNB()\n",
    "gs.fit(train_X,train_y)\n",
    "print(gs.score(train_X,train_y))"
   ]
  },
  {
   "cell_type": "code",
   "execution_count": 14,
   "metadata": {},
   "outputs": [
    {
     "name": "stdout",
     "output_type": "stream",
     "text": [
      "(10000, 5100)\n"
     ]
    }
   ],
   "source": [
    "test_x_bag = cv.transform(test_data)\n",
    "test_x_bag = model.transform(test_x_bag)\n",
    "test_x_lda = lda.transform(test_x_bag)\n",
    "test_X = np.concatenate((test_x_bag.toarray(),test_x_lda),axis=1)\n",
    "print(test_X.shape)"
   ]
  },
  {
   "cell_type": "code",
   "execution_count": 15,
   "metadata": {},
   "outputs": [
    {
     "name": "stdout",
     "output_type": "stream",
     "text": [
      "acc 0.868\n"
     ]
    }
   ],
   "source": [
    "pred_y = gs.predict(test_X)\n",
    "acc = np.sum(pred_y == test_y)/len(test_y)\n",
    "print('acc', acc)"
   ]
  },
  {
   "cell_type": "code",
   "execution_count": 16,
   "metadata": {},
   "outputs": [
    {
     "name": "stdout",
     "output_type": "stream",
     "text": [
      "              precision    recall  f1-score   support\n",
      "\n",
      "           0       0.99      0.99      0.99      1000\n",
      "           1       0.91      0.93      0.92      1000\n",
      "           2       0.82      0.45      0.58      1000\n",
      "           3       0.64      0.80      0.71      1000\n",
      "           4       0.90      0.82      0.86      1000\n",
      "           5       0.88      0.92      0.90      1000\n",
      "           6       0.84      0.89      0.87      1000\n",
      "           7       0.95      0.95      0.95      1000\n",
      "           8       0.91      0.97      0.94      1000\n",
      "           9       0.86      0.97      0.91      1000\n",
      "\n",
      "   micro avg       0.87      0.87      0.87     10000\n",
      "   macro avg       0.87      0.87      0.86     10000\n",
      "weighted avg       0.87      0.87      0.86     10000\n",
      "\n",
      "[[994   4   0   0   0   0   1   0   1   0]\n",
      " [  0 928   3   1   4  41   0  17   5   1]\n",
      " [  0   6 450 369  27  33  30   9  28  48]\n",
      " [  0   8  37 795  18   7  59   1   7  68]\n",
      " [  3  24   5   7 817  11  66  15  31  21]\n",
      " [  1  31  35   2   3 920   0   4   4   0]\n",
      " [  0   3   4  39  36   0 893   0   9  16]\n",
      " [  2  12   1   2   6  18   0 946  12   1]\n",
      " [  0   0  14   2   0   9   0   9 966   0]\n",
      " [  0   0   0  16   0   1  12   0   0 971]]\n"
     ]
    }
   ],
   "source": [
    "from sklearn.metrics import classification_report\n",
    "from sklearn.metrics import confusion_matrix\n",
    "print(classification_report(test_y,pred_y))\n",
    "print(confusion_matrix(test_y,pred_y))"
   ]
  },
  {
   "cell_type": "code",
   "execution_count": 17,
   "metadata": {},
   "outputs": [
    {
     "name": "stdout",
     "output_type": "stream",
     "text": [
      "(10000, 5000)\n",
      "0.9327\n",
      "0.8616\n"
     ]
    }
   ],
   "source": [
    "# 不拼接lda特征\n",
    "train_X = new_train_x.toarray()\n",
    "gs = GaussianNB()\n",
    "gs.fit(train_X,train_y)\n",
    "test_x_bag = cv.transform(test_data)\n",
    "test_x_bag = model.transform(test_x_bag)\n",
    "test_X = test_x_bag.toarray()\n",
    "print(test_X.shape)\n",
    "print(gs.score(train_X,train_y))\n",
    "print(gs.score(test_X,test_y))\n",
    "print()"
   ]
  },
  {
   "cell_type": "markdown",
   "metadata": {},
   "source": [
    "### 采用tfidf+lda+朴素贝叶斯"
   ]
  },
  {
   "cell_type": "code",
   "execution_count": 18,
   "metadata": {},
   "outputs": [
    {
     "data": {
      "text/plain": [
       "GaussianNB(priors=None, var_smoothing=1e-09)"
      ]
     },
     "execution_count": 18,
     "metadata": {},
     "output_type": "execute_result"
    }
   ],
   "source": [
    "from sklearn.feature_extraction.text import TfidfTransformer\n",
    "transformer = TfidfTransformer()\n",
    "tfidf_train_x = transformer.fit_transform(new_train_x)\n",
    "\n",
    "tfidf_train_X = np.concatenate((tfidf_train_x.toarray(),lda_feature),axis=1)\n",
    "# tfidf_train_X = tfidf_train_x.toarray()\n",
    "\n",
    "gs2 = GaussianNB()\n",
    "gs2.fit(tfidf_train_X,train_y)"
   ]
  },
  {
   "cell_type": "code",
   "execution_count": 21,
   "metadata": {},
   "outputs": [
    {
     "name": "stdout",
     "output_type": "stream",
     "text": [
      "0.95844\n",
      "              precision    recall  f1-score   support\n",
      "\n",
      "           0       1.00      1.00      1.00      5000\n",
      "           1       0.97      0.99      0.98      5000\n",
      "           2       0.95      0.97      0.96      5000\n",
      "           3       0.92      0.95      0.94      5000\n",
      "           4       0.96      0.89      0.93      5000\n",
      "           5       0.97      0.96      0.97      5000\n",
      "           6       0.92      0.96      0.94      5000\n",
      "           7       0.99      0.98      0.99      5000\n",
      "           8       0.94      0.96      0.95      5000\n",
      "           9       0.96      0.92      0.94      5000\n",
      "\n",
      "   micro avg       0.96      0.96      0.96     50000\n",
      "   macro avg       0.96      0.96      0.96     50000\n",
      "weighted avg       0.96      0.96      0.96     50000\n",
      "\n"
     ]
    }
   ],
   "source": [
    "pred = gs2.predict(tfidf_train_X)\n",
    "print(gs2.score(tfidf_train_X,train_y))\n",
    "report = classification_report(train_y,pred)\n",
    "print(report)"
   ]
  },
  {
   "cell_type": "code",
   "execution_count": 23,
   "metadata": {},
   "outputs": [
    {
     "name": "stdout",
     "output_type": "stream",
     "text": [
      "0.878\n",
      "              precision    recall  f1-score   support\n",
      "\n",
      "           0       1.00      0.99      0.99      1000\n",
      "           1       0.91      0.95      0.93      1000\n",
      "           2       0.88      0.40      0.55      1000\n",
      "           3       0.66      0.85      0.74      1000\n",
      "           4       0.86      0.89      0.87      1000\n",
      "           5       0.92      0.92      0.92      1000\n",
      "           6       0.89      0.89      0.89      1000\n",
      "           7       0.94      0.95      0.94      1000\n",
      "           8       0.90      0.98      0.94      1000\n",
      "           9       0.88      0.97      0.92      1000\n",
      "\n",
      "   micro avg       0.88      0.88      0.88     10000\n",
      "   macro avg       0.88      0.88      0.87     10000\n",
      "weighted avg       0.88      0.88      0.87     10000\n",
      "\n",
      "acc 0.878\n"
     ]
    }
   ],
   "source": [
    "test_x_tfidf = transformer.fit_transform(test_x_bag)\n",
    "test_x_tfidf_lda = lda.transform(test_x_tfidf)\n",
    "test_tfidf_X = np.concatenate((test_x_tfidf.toarray(),test_x_tfidf_lda),axis=1)\n",
    "# test_tfidf_X = test_x_tfidf.toarray()\n",
    "print(gs2.score(test_tfidf_X,test_y))\n",
    "pred = gs2.predict(test_tfidf_X)\n",
    "report = classification_report(test_y,pred)\n",
    "print(report)"
   ]
  },
  {
   "cell_type": "markdown",
   "metadata": {},
   "source": [
    "bow-->互信息筛选5000个词--->bow <br>\n",
    "\n",
    "|model|train|test|\n",
    "|--|---|---|\n",
    "|bow + lda + gs|  0.93752 |0.868|\n",
    "|bow  + gs|0.9327 |0.8616 |\n",
    "|tfidf + gs|0.95678|0.875|\n",
    "|tfidf + lda + gs|0.95844|0.878|"
   ]
  },
  {
   "cell_type": "code",
   "execution_count": null,
   "metadata": {},
   "outputs": [],
   "source": []
  }
 ],
 "metadata": {
  "kernelspec": {
   "display_name": "Python 3",
   "language": "python",
   "name": "python3"
  },
  "language_info": {
   "codemirror_mode": {
    "name": "ipython",
    "version": 3
   },
   "file_extension": ".py",
   "mimetype": "text/x-python",
   "name": "python",
   "nbconvert_exporter": "python",
   "pygments_lexer": "ipython3",
   "version": "3.6.8"
  }
 },
 "nbformat": 4,
 "nbformat_minor": 2
}
