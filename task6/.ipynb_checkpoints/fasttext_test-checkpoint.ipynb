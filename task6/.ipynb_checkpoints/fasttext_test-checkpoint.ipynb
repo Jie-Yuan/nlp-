{
 "cells": [
  {
   "cell_type": "code",
   "execution_count": 1,
   "metadata": {},
   "outputs": [],
   "source": [
    "import fastText"
   ]
  },
  {
   "cell_type": "code",
   "execution_count": 2,
   "metadata": {},
   "outputs": [
    {
     "name": "stdout",
     "output_type": "stream",
     "text": [
      "Help on function train_supervised in module fastText.FastText:\n",
      "\n",
      "train_supervised(input, lr=0.1, dim=100, ws=5, epoch=5, minCount=1, minCountLabel=0, minn=0, maxn=0, neg=5, wordNgrams=1, loss='softmax', bucket=2000000, thread=12, lrUpdateRate=100, t=0.0001, label='__label__', verbose=2, pretrainedVectors='')\n",
      "    Train a supervised model and return a model object.\n",
      "    \n",
      "    input must be a filepath. The input text does not need to be tokenized\n",
      "    as per the tokenize function, but it must be preprocessed and encoded\n",
      "    as UTF-8. You might want to consult standard preprocessing scripts such\n",
      "    as tokenizer.perl mentioned here: http://www.statmt.org/wmt07/baseline.html\n",
      "    \n",
      "    The input file must must contain at least one label per line. For an\n",
      "    example consult the example datasets which are part of the fastText\n",
      "    repository such as the dataset pulled by classification-example.sh.\n",
      "\n"
     ]
    }
   ],
   "source": [
    "help(fastText.train_supervised)"
   ]
  },
  {
   "cell_type": "code",
   "execution_count": 3,
   "metadata": {},
   "outputs": [],
   "source": [
    "import pandas as pd\n",
    "import numpy as np\n",
    "from sklearn.preprocessing import LabelEncoder\n",
    "import jieba"
   ]
  },
  {
   "cell_type": "code",
   "execution_count": 4,
   "metadata": {},
   "outputs": [],
   "source": [
    "def get_stopwords(path):\n",
    "    with open(path,encoding='utf-8') as f:\n",
    "        stopwords = f.read().strip().split('\\n')\n",
    "    \n",
    "    return stopwords"
   ]
  },
  {
   "cell_type": "code",
   "execution_count": 5,
   "metadata": {},
   "outputs": [],
   "source": [
    "label_dict = {'体育':0, '娱乐':1, '家居':2, '房产':3, '教育':4, '时尚':5, '时政':6, '游戏':7, '科技':8, '财经':9}"
   ]
  },
  {
   "cell_type": "code",
   "execution_count": 24,
   "metadata": {},
   "outputs": [],
   "source": [
    "def preprocess_data(data_path,save_path,stopwords):\n",
    "    data = pd.read_csv(data_path,sep='\\t',engine='python',names=['label','content'],encoding='utf-8')\n",
    "    # 标签通过字典映射后再取值\n",
    "    labels = data['label'].map(label_dict).values\n",
    "    \n",
    "    contents = data['content'].values\n",
    "    preprocess_contents = []\n",
    "    text = []\n",
    "    for label,content in zip(labels,contents):\n",
    "        content = jieba.lcut(content)\n",
    "        content = filter(lambda x:len(x)>1, content)\n",
    "        content = filter(lambda x:x not in stopwords, content)\n",
    "        preprocess_contents.append(content)\n",
    "        text.append('__label__'+ str(label) + ' ' + ' '.join(content)+'\\n')\n",
    "    with open(save_path,'w',encoding='utf-8') as f:\n",
    "        for i in text:\n",
    "            f.write(i)\n",
    "\n",
    "    return preprocess_contents,labels"
   ]
  },
  {
   "cell_type": "code",
   "execution_count": 25,
   "metadata": {},
   "outputs": [
    {
     "name": "stdout",
     "output_type": "stream",
     "text": [
      "马晓旭意外受伤让国奥警惕 无奈大雨格外青睐殷家军记者傅亚雨沈阳报道 来到沈阳，国奥队依然没有摆脱雨水的困扰。7月31日下午6点，国奥队的日常训练再度受到大雨的干扰，无奈之下队员们只慢跑了25分钟就草草收场。31日上午10点，国奥队在奥体中心外场训练的时候，天就是阴沉沉的，气象预报显示当天下午沈阳就有大雨，但幸好队伍上午的训练并没有受到任何干扰。下午6点，当球队抵达训练场时，大雨已经下了几个小时，而且丝毫没有停下来的意思。抱着试一试的态度，球队开始了当天下午的例行训练，25分钟过去了，天气没有任何转好的迹象，为了保护球员们，国奥队决定中止当天的训练，全队立即返回酒店。在雨中训练对足球队来说并不是什么稀罕事，但在奥运会即将开始之前，全队变得“娇贵”了。在沈阳最后一周的训练，国奥队首先要保证现有的球员不再出现意外的伤病情况以免影响正式比赛，因此这一阶段控制训练受伤、控制感冒等疾病的出现被队伍放在了相当重要的位置。而抵达沈阳之后，中后卫冯萧霆就一直没有训练，冯萧霆是7月27日在长春患上了感冒，因此也没有参加29日跟塞尔维亚的热身赛。队伍介绍说，冯萧霆并没有出现发烧症状，但为了安全起见，这两天还是让他静养休息，等感冒彻底好了之后再恢复训练。由于有了冯萧霆这个例子，因此国奥队对雨中训练就显得特别谨慎，主要是担心球员们受凉而引发感冒，造成非战斗减员。而女足队员马晓旭在热身赛中受伤导致无缘奥运的前科，也让在沈阳的国奥队现在格外警惕，“训练中不断嘱咐队员们要注意动作，我们可不能再出这样的事情了。”一位工作人员表示。从长春到沈阳，雨水一路伴随着国奥队，“也邪了，我们走到哪儿雨就下到哪儿，在长春几次训练都被大雨给搅和了，没想到来沈阳又碰到这种事情。”一位国奥球员也对雨水的“青睐”有些不解。 <class 'numpy.ndarray'>\n"
     ]
    }
   ],
   "source": [
    "stopwords = get_stopwords('./stopwords.txt')\n",
    "\n",
    "contents,labels = preprocess_data('../dataset/cnews/cnews.train.txt','./after_reprocess_train.txt',stopwords)\n",
    "print(contents[0],type(contents))"
   ]
  },
  {
   "cell_type": "code",
   "execution_count": 56,
   "metadata": {},
   "outputs": [],
   "source": [
    "model = fastText.FastText.train_supervised('./after_reprocess_train.txt',lr=0.05, dim=300, epoch=50,label='__label__')\n",
    "print(res)"
   ]
  },
  {
   "cell_type": "code",
   "execution_count": 39,
   "metadata": {},
   "outputs": [],
   "source": [
    "model.save_model('./fasttest.model')"
   ]
  },
  {
   "cell_type": "code",
   "execution_count": 57,
   "metadata": {},
   "outputs": [],
   "source": [
    "test = ['姚明','未来','次节', '出战', '成疑', '火箭', '高层', '改变', '用姚', '战略', '副总裁', '球员' ,'凯尔', '洛瑞' ,'伤病','防守' ,'篮板']"
   ]
  },
  {
   "cell_type": "code",
   "execution_count": 58,
   "metadata": {},
   "outputs": [
    {
     "name": "stdout",
     "output_type": "stream",
     "text": [
      "(['__label__2', '__label__2', '__label__2', '__label__2', '__label__2', '__label__2', '__label__2', '__label__2', '__label__2', '__label__2', '__label__2', '__label__2', '__label__2', '__label__2', '__label__2', '__label__2', '__label__2'], array([1.00001001, 1.00001001, 1.00001001, 1.00001001, 1.00001001,\n",
      "       1.00001001, 1.00001001, 1.00001001, 1.00001001, 1.00001001,\n",
      "       1.00001001, 1.00001001, 1.00001001, 1.00001001, 1.00001001,\n",
      "       1.00001001, 1.00001001]))\n"
     ]
    }
   ],
   "source": [
    "label = model.predict(test,1)\n",
    "print(label)"
   ]
  }
 ],
 "metadata": {
  "kernelspec": {
   "display_name": "Python 3",
   "language": "python",
   "name": "python3"
  },
  "language_info": {
   "codemirror_mode": {
    "name": "ipython",
    "version": 3
   },
   "file_extension": ".py",
   "mimetype": "text/x-python",
   "name": "python",
   "nbconvert_exporter": "python",
   "pygments_lexer": "ipython3",
   "version": "3.6.8"
  }
 },
 "nbformat": 4,
 "nbformat_minor": 2
}
